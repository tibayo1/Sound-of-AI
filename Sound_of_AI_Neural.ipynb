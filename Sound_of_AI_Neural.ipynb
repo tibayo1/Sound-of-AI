{
  "nbformat": 4,
  "nbformat_minor": 0,
  "metadata": {
    "colab": {
      "name": "Sound of AI Neural",
      "provenance": [],
      "collapsed_sections": []
    },
    "kernelspec": {
      "name": "python3",
      "display_name": "Python 3"
    },
    "language_info": {
      "name": "python"
    },
    "accelerator": "GPU"
  },
  "cells": [
    {
      "cell_type": "code",
      "metadata": {
        "id": "QA6TJJ2D9j_A"
      },
      "source": [
        "import torch\n",
        "from torch import nn\n",
        "from torch.utils.data import DataLoader\n",
        "from torchvision import datasets\n",
        "from torchvision.transforms import transforms\n",
        "BATCH_SIZE = 128\n",
        "EPOCHS = 10\n",
        "LEARNING_RATE = 0.001"
      ],
      "execution_count": 1,
      "outputs": []
    },
    {
      "cell_type": "code",
      "metadata": {
        "id": "gvS1-uvYKxQe"
      },
      "source": [
        "def train_one_epoch(model, data_loader, loss_fn, optimiser, device):\n",
        "  for inputs, targets in data_loader:\n",
        "    inputs,targets = inputs.to(device), targets.to(device)\n",
        "\n",
        "    #calulate loss\n",
        "    pred = model(inputs)\n",
        "    loss = loss_fn(pred, targets)\n",
        "\n",
        "    #backpropagate loss and update weights\n",
        "    optimiser.zero_grad()\n",
        "    loss.backward()\n",
        "    optimiser.step()\n",
        "  print(f\"Loss: {loss.item()}\")\n",
        "\n",
        "def train(model, data_loader, loss_fn, optimiser, device, epochs):\n",
        "  for i in range (epochs):\n",
        "    print(f\"Epoch {i+1}\")\n",
        "    train_one_epoch(model, data_loader, loss_fn, optimiser, device)\n",
        "    print(\"-------------------------------\")\n",
        "  print(\"Training is done\")\n"
      ],
      "execution_count": 2,
      "outputs": []
    },
    {
      "cell_type": "code",
      "metadata": {
        "id": "BY9iijZ8qV2a"
      },
      "source": [
        "class FeedForwardNet(nn.Module):\n",
        "  def __init__(self):\n",
        "    super().__init__()\n",
        "    self.flatten = nn.Flatten()\n",
        "    self.dense_layers = nn.Sequential (\n",
        "        nn.Linear(28*28, 256),\n",
        "        nn.ReLU(),\n",
        "        nn.Linear(256,10)\n",
        "    )\n",
        "    self.softmax = nn.Softmax(dim=1)\n",
        "  def forward(self, input_data):\n",
        "    f_data = self.flatten(input_data)\n",
        "    logits = self.dense_layers(f_data)\n",
        "    pred = self.softmax(logits)\n",
        "    return pred"
      ],
      "execution_count": 3,
      "outputs": []
    },
    {
      "cell_type": "code",
      "metadata": {
        "id": "QeLz4OcCfrDV",
        "colab": {
          "base_uri": "https://localhost:8080/"
        },
        "outputId": "436645b3-3242-4869-cf5a-6c793cd40f7e"
      },
      "source": [
        "if __name__ == \"__main__\":\n",
        "  train_loader = DataLoader(\n",
        "    datasets.MNIST('../data', train=True, download=True,\n",
        "                   transform=transforms.ToTensor()),\n",
        "    batch_size=BATCH_SIZE, shuffle=True)\n",
        "  \n",
        "  if torch.cuda.is_available():\n",
        "    device = \"cuda\"\n",
        "  else:\n",
        "    device = \"cpu\"\n",
        "  print(f\"Using {device} device\")\n",
        "\n",
        "  feed_forward_net = FeedForwardNet().to(device)\n",
        "  #instantiate loss function + optimiser\n",
        "  loss_fn = nn.CrossEntropyLoss()\n",
        "  optimiser = torch.optim.Adam(feed_forward_net.parameters(),\n",
        "                               lr = LEARNING_RATE)\n",
        "\n",
        "  #train model\n",
        "  train(feed_forward_net, train_loader, loss_fn, optimiser, device, EPOCHS)\n",
        "  \n",
        "  torch.save(feed_forward_net.state_dict(), \"feedforwardnet.pth\")\n",
        "  print(\"Model trained and stored at feedforwardnet.pth\")"
      ],
      "execution_count": 5,
      "outputs": [
        {
          "output_type": "stream",
          "name": "stdout",
          "text": [
            "Using cuda device\n",
            "Epoch 1\n",
            "Loss: 1.5333150625228882\n",
            "-------------------------------\n",
            "Epoch 2\n",
            "Loss: 1.5227593183517456\n",
            "-------------------------------\n",
            "Epoch 3\n",
            "Loss: 1.514814019203186\n",
            "-------------------------------\n",
            "Epoch 4\n",
            "Loss: 1.4947515726089478\n",
            "-------------------------------\n",
            "Epoch 5\n",
            "Loss: 1.511922836303711\n",
            "-------------------------------\n",
            "Epoch 6\n",
            "Loss: 1.4890552759170532\n",
            "-------------------------------\n",
            "Epoch 7\n",
            "Loss: 1.4920458793640137\n",
            "-------------------------------\n",
            "Epoch 8\n",
            "Loss: 1.4797621965408325\n",
            "-------------------------------\n",
            "Epoch 9\n",
            "Loss: 1.4886113405227661\n",
            "-------------------------------\n",
            "Epoch 10\n",
            "Loss: 1.4867969751358032\n",
            "-------------------------------\n",
            "Training is done\n",
            "Model trained and stored at feedforwardnet.pth\n"
          ]
        }
      ]
    }
  ]
}