{
  "nbformat": 4,
  "nbformat_minor": 0,
  "metadata": {
    "colab": {
      "name": "TorchAudio.ipynb",
      "provenance": [],
      "authorship_tag": "ABX9TyOd0OSaoamnPRrWHD8w/G1M",
      "include_colab_link": true
    },
    "kernelspec": {
      "name": "python3",
      "display_name": "Python 3"
    },
    "language_info": {
      "name": "python"
    }
  },
  "cells": [
    {
      "cell_type": "markdown",
      "metadata": {
        "id": "view-in-github",
        "colab_type": "text"
      },
      "source": [
        "<a href=\"https://colab.research.google.com/github/tibayo1/Sound-of-AI/blob/main/TorchAudio.ipynb\" target=\"_parent\"><img src=\"https://colab.research.google.com/assets/colab-badge.svg\" alt=\"Open In Colab\"/></a>"
      ]
    },
    {
      "cell_type": "code",
      "metadata": {
        "id": "e_1RYNkCi3Yn"
      },
      "source": [
        "from torch.utils.data import Dataset\n",
        "import pandas as pd\n",
        "import torchaudio \n",
        "import os\n",
        "\n",
        "class UrbanSoundDataset(Dataset):\n",
        "  def __init__(self, annotations_file, audio_dir):\n",
        "    self.annotations = pd.read_csv(annotations_file)\n",
        "    self.audio_dir = audio_dir\n",
        "\n",
        "\n",
        "  def __len__(self):\n",
        "    return len(self.annotations)\n",
        "\n",
        "\n",
        "  def __getitem__(self, index):\n",
        "    audio_sample_path = self._get_audio_sample_path(index)\n",
        "    label = self._get_audio_sample_label(index)\n",
        "    signal, sr = torchaudio.load(audio_sample_path)\n",
        "    return signal, label\n",
        "\n",
        "  def _get_audio_sample_path(self, index):\n",
        "    fold = f\"fold{self.annotations.iloc[index, 5]}\"\n",
        "    path = os.path.join(self.audio_dir, fold, self.annotations.iloc[\n",
        "                              index, 0                                      \n",
        "    ]\n",
        "                        )\n",
        "    return path\n",
        "\n",
        "  def _get_audio_sample_label(self, index):\n",
        "    return self.annotations.iloc[index, 6]\n",
        "\n",
        "if __name__ == \"__main__\":\n",
        "  ANNOTATIONS_FILE = \n",
        "  AUDIO_DIR = \n",
        "\n",
        "  usd = UrbanSoundDataset(ANNOTATIONS_FILE, AUDIO_DIR)\n",
        "\n",
        "  print(f\"There ae {len(usd)} samples in the dataset. \")\n",
        "\n",
        "  signal, label = usd[0]\n",
        "\n",
        "  a = 1"
      ],
      "execution_count": null,
      "outputs": []
    }
  ]
}