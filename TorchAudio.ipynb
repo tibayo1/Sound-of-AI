{
  "nbformat": 4,
  "nbformat_minor": 0,
  "metadata": {
    "colab": {
      "name": "TorchAudio.ipynb",
      "provenance": [],
      "authorship_tag": "ABX9TyPubTfOr4eQ0bTSxJSAQFOX",
      "include_colab_link": true
    },
    "kernelspec": {
      "name": "python3",
      "display_name": "Python 3"
    },
    "language_info": {
      "name": "python"
    }
  },
  "cells": [
    {
      "cell_type": "markdown",
      "metadata": {
        "id": "view-in-github",
        "colab_type": "text"
      },
      "source": [
        "<a href=\"https://colab.research.google.com/github/tibayo1/Sound-of-AI/blob/main/TorchAudio.ipynb\" target=\"_parent\"><img src=\"https://colab.research.google.com/assets/colab-badge.svg\" alt=\"Open In Colab\"/></a>"
      ]
    },
    {
      "cell_type": "code",
      "metadata": {
        "id": "e_1RYNkCi3Yn"
      },
      "source": [
        "from torch.utils.data import Dataset\n",
        "import pandas as pd\n",
        "import torchaudio \n",
        "import os\n",
        "\n",
        "class UrbanSoundDataset(Dataset):\n",
        "  def __init__(self, annotations_file, audio_dir, transformation, target_sample_rate):\n",
        "    self.annotations = pd.read_csv(annotations_file)\n",
        "    self.audio_dir = audio_dir\n",
        "    self.transformation = transformation\n",
        "    self.target_sample_rate = target_sample_rate\n",
        "\n",
        "  def __len__(self):\n",
        "    return len(self.annotations)\n",
        "\n",
        "\n",
        "  def __getitem__(self, index):\n",
        "    audio_sample_path = self._get_audio_sample_path(index)\n",
        "    label = self._get_audio_sample_label(index)\n",
        "    signal, sr = torchaudio.load(audio_sample_path)\n",
        "    signal = self._resample_if_necessary(signal,sr)\n",
        "    signal = self._mix_down_if_necessary(signal)\n",
        "    signal = self.transformation(signal)\n",
        "    return signal, label\n",
        "\n",
        "  def _resample_if_necessary(self, signal, sr):\n",
        "    if sr != self.target_sample_rate:\n",
        "      resampler = torchaudio.transforms.Resample(sr,self.target_sample_rate)\n",
        "      signal = resampler(signal)\n",
        "    return signal \n",
        "\n",
        "  def _mix_down_if_necessary(self.signal):\n",
        "    if signal.shape[0] > 1:\n",
        "      signal = torch.mean(signal, dim=0, keepdim = True)\n",
        "    return signal \n",
        "\n",
        "  def _get_audio_sample_path(self, index):\n",
        "    fold = f\"fold{self.annotations.iloc[index, 5]}\"\n",
        "    path = os.path.join(self.audio_dir, fold, self.annotations.iloc[\n",
        "                              index, 0                                      \n",
        "    ]\n",
        "                        )\n",
        "    return path\n",
        "\n",
        "  def _get_audio_sample_label(self, index):\n",
        "    return self.annotations.iloc[index, 6]\n",
        "\n",
        "if __name__ == \"__main__\":\n",
        "  ANNOTATIONS_FILE = \n",
        "  AUDIO_DIR = \n",
        "  SAMPLE_RATE = 16000\n",
        "\n",
        "  mel_spectrogram = torchaudio.transforms.MelSpectrogram(\n",
        "      sample_rate = SAMPLE_RATE\n",
        "      n_fft = 1024\n",
        "      hop_length = 512\n",
        "      n_mels = 64\n",
        "  )\n",
        "  usd = UrbanSoundDataset(ANNOTATIONS_FILE, AUDIO_DIR, mel_spectrogram, SAMPLE_RATE)\n",
        "\n",
        "  print(f\"There ae {len(usd)} samples in the dataset. \")\n",
        "\n",
        "  signal, label = usd[0]\n",
        "\n",
        "  \n",
        "\n",
        "\n",
        "\n",
        "\n"
      ],
      "execution_count": null,
      "outputs": []
    }
  ]
}