{
  "nbformat": 4,
  "nbformat_minor": 0,
  "metadata": {
    "colab": {
      "name": "Making predictions",
      "provenance": [],
      "authorship_tag": "ABX9TyOtmISfMAbAEJBiQPBrvTcw",
      "include_colab_link": true
    },
    "kernelspec": {
      "name": "python3",
      "display_name": "Python 3"
    },
    "language_info": {
      "name": "python"
    },
    "accelerator": "GPU"
  },
  "cells": [
    {
      "cell_type": "markdown",
      "metadata": {
        "id": "view-in-github",
        "colab_type": "text"
      },
      "source": [
        "<a href=\"https://colab.research.google.com/github/tibayo1/Sound-of-AI/blob/main/Making_predictions.ipynb\" target=\"_parent\"><img src=\"https://colab.research.google.com/assets/colab-badge.svg\" alt=\"Open In Colab\"/></a>"
      ]
    },
    {
      "cell_type": "code",
      "metadata": {
        "id": "xYrnF0tYWuwn"
      },
      "source": [
        "import torch\n",
        "from torch import nn\n",
        "from torch.utils.data import DataLoader\n",
        "from torchvision import datasets\n",
        "from torchvision.transforms import transforms\n",
        "BATCH_SIZE = 128\n",
        "EPOCHS = 10\n",
        "LEARNING_RATE = 0.001"
      ],
      "execution_count": 1,
      "outputs": []
    },
    {
      "cell_type": "code",
      "metadata": {
        "id": "rMzXgjrRQnsC"
      },
      "source": [
        "##!cp /content/drive/MyDrive/Colab_Notebooks/Sound_of_AI_Neural.py\n",
        "#import torch\n",
        "#from train import FeedForwardNet\n",
        "\n",
        "class_mapping = [\n",
        "         \"0\", \"1\", \"2\", \"3\", \"4\", \"5\", \"6\", \"7\", \"8\", \"9\"       \n",
        "  ]\n",
        "\n"
      ],
      "execution_count": 2,
      "outputs": []
    },
    {
      "cell_type": "code",
      "metadata": {
        "id": "YvgsbvxJATTg"
      },
      "source": [
        "def predict(model, input, target, class_mapping):\n",
        "  model.eval()\n",
        "  with torch.no_grad():\n",
        "    predictions = model(input)\n",
        "    #Tensor {}\n",
        "\n",
        "    predicted_index = predictions[0].argmax(0)\n",
        "    predicted = class_mapping[predicted_index]\n",
        "    expected = class_mapping[target]\n",
        "  return predicted, expected"
      ],
      "execution_count": 3,
      "outputs": []
    },
    {
      "cell_type": "code",
      "metadata": {
        "id": "7CxaomcS5SSO"
      },
      "source": [
        "class FeedForwardNet(nn.Module):\n",
        "  def __init__(self):\n",
        "    super().__init__()\n",
        "    self.flatten = nn.Flatten()\n",
        "    self.dense_layers = nn.Sequential (\n",
        "        nn.Linear(28*28, 256),\n",
        "        nn.ReLU(),\n",
        "        nn.Linear(256,10)\n",
        "    )\n",
        "    self.softmax = nn.Softmax(dim=1)\n",
        "  def forward(self, input):\n",
        "    f_data = self.flatten(input)\n",
        "    logits = self.dense_layers(f_data)\n",
        "    pred = self.softmax(logits)\n",
        "    return pred"
      ],
      "execution_count": 4,
      "outputs": []
    },
    {
      "cell_type": "code",
      "metadata": {
        "colab": {
          "base_uri": "https://localhost:8080/"
        },
        "id": "6kJPCeF3_AhF",
        "outputId": "a3e62f46-5d19-4230-83f0-9924aa017ef3"
      },
      "source": [
        "if __name__ == \"__main__\":\n",
        "  feed_forward_net = FeedForwardNet()\n",
        "  state_dict = torch.load('feedforwardnet.pth')\n",
        "  feed_forward_net.load_state_dict(state_dict)\n",
        "\n",
        "  validation_data =  datasets.MNIST(root = \"data\", train = False, download=True,\n",
        "                   transform=transforms.ToTensor(),)\n",
        "    \n",
        "  input,target = validation_data[0][0],validation_data[0][1] \n",
        "\n",
        "  #make an inference\n",
        "  predicted, expected = predict(feed_forward_net, input, target, class_mapping)\n",
        "\n",
        "\n",
        "  print(f\"Predicted:'{predicted}', expected: '{expected}' \")"
      ],
      "execution_count": 8,
      "outputs": [
        {
          "output_type": "stream",
          "name": "stdout",
          "text": [
            "Predicted:'7', expected: '7' \n"
          ]
        }
      ]
    }
  ]
}